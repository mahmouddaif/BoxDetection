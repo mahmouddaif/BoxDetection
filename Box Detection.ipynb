{
 "cells": [
  {
   "cell_type": "markdown",
   "metadata": {},
   "source": [
    "## Loading Required Libraries"
   ]
  },
  {
   "cell_type": "code",
   "execution_count": 1,
   "metadata": {},
   "outputs": [],
   "source": [
    "%matplotlib inline\n",
    "from matplotlib import pyplot as plt\n",
    "\n",
    "import argparse\n",
    "import imutils\n",
    "import cv2\n"
   ]
  },
  {
   "cell_type": "code",
   "execution_count": 2,
   "metadata": {},
   "outputs": [],
   "source": [
    "class BoxDetector:\n",
    "    def __init__(self):\n",
    "        pass\n",
    "    def detect(self, c):\n",
    "        # initialize the shape name and approximate the contour\n",
    "        shape = \"unidentified\"\n",
    "        peri = cv2.arcLength(c, True)\n",
    "        approx = cv2.approxPolyDP(c, 0.04 * peri, True)\n",
    "        # if the shape has 4 vertices, it is either a square or\n",
    "        # a rectangle\n",
    "        if len(approx) == 4:\n",
    "            # compute the bounding box of the contour and use the\n",
    "            # bounding box to compute the aspect ratio\n",
    "            (x, y, w, h) = cv2.boundingRect(approx)\n",
    "            ar = w / float(h)\n",
    "            # a square will have an aspect ratio that is approximately\n",
    "            # equal to one, otherwise, the shape is a rectangle\n",
    "            shape = \"square\" if ar >= 0.95 and ar <= 1.05 else \"rectangle\"\n",
    "        return shape\n"
   ]
  },
  {
   "cell_type": "code",
   "execution_count": 3,
   "metadata": {},
   "outputs": [],
   "source": [
    "#Get countour center cX, cY\n",
    "def get_contour_center(c, ratio):\n",
    "    M = cv2.moments(c)\n",
    "    cX = int((M[\"m10\"] / M[\"m00\"]) * ratio)\n",
    "    cY = int((M[\"m01\"] / M[\"m00\"]) * ratio)\n",
    "    return cX, cY"
   ]
  },
  {
   "cell_type": "code",
   "execution_count": 4,
   "metadata": {},
   "outputs": [],
   "source": [
    "# Add text and bounding box to object detected\n",
    "def annotate_image(cX, cY, cnt, image, ratio,shape): \n",
    "    # multiply the contour (x, y)-coordinates by the resize ratio\n",
    "    # then draw the contours and the name of the shape on the image\n",
    "    cnt = cnt.astype(\"float\")\n",
    "    cnt *= ratio\n",
    "    cnt = cnt.astype(\"int\")\n",
    "    cv2.drawContours(image, [cnt], -1, (0, 255, 0), 2)\n",
    "    cv2.putText(image, shape, (cX, cY), cv2.FONT_HERSHEY_SIMPLEX,0.5, (0, 0, 0), 2)\n",
    "    cv2.waitKey(0)\n",
    "    return"
   ]
  },
  {
   "cell_type": "code",
   "execution_count": 5,
   "metadata": {},
   "outputs": [],
   "source": [
    "#Resize the image to certain width while keeping aspect ratio\n",
    "def resize_image(image, width):\n",
    "    # resize the image and resize it to a smaller factor so that\n",
    "    # the shapes can be approximated better\n",
    "    resized = imutils.resize(image, width=width)\n",
    "    ratio = image.shape[0] / float(resized.shape[0])\n",
    "    return resized, ratio"
   ]
  },
  {
   "cell_type": "code",
   "execution_count": 6,
   "metadata": {},
   "outputs": [],
   "source": [
    "# Get inverted thresholded image\n",
    "def get_inverted_binary_threshold(image):\n",
    "    # convert the resized image to grayscale, blur it slightly,\n",
    "    # and threshold it\n",
    "    gray = cv2.cvtColor(image, cv2.COLOR_BGR2GRAY)\n",
    "    blurred = cv2.GaussianBlur(gray, (5, 5), 0)\n",
    "    # Adaptive thresholding because the threshold value is different from one image to another \n",
    "    # and highly influences the threshold\n",
    "    thresh = cv2.adaptiveThreshold(blurred,255,cv2.ADAPTIVE_THRESH_GAUSSIAN_C,\\\n",
    "            cv2.THRESH_BINARY,11,2)\n",
    "    # Invert the image\n",
    "    thresh = 255-thresh \n",
    "    return thresh\n"
   ]
  },
  {
   "cell_type": "code",
   "execution_count": 7,
   "metadata": {},
   "outputs": [],
   "source": [
    "#Get contours in an image\n",
    "def find_contours(image):\n",
    "    # find contours in the thresholded image and initialize the\n",
    "    # shape detector\n",
    "    cnts, hierarchy = cv2.findContours(image.copy(), cv2.RETR_TREE, cv2.CHAIN_APPROX_SIMPLE)\n",
    "    cnts = imutils.grab_contours((cnts,hierarchy) )\n",
    "    return cnts, hierarchy\n"
   ]
  },
  {
   "cell_type": "code",
   "execution_count": 8,
   "metadata": {},
   "outputs": [],
   "source": [
    "#Main method for detecting boxes in an image\n",
    "def detect_boxes(image, sd):\n",
    "    resized, ratio = resize_image(image, 300)\n",
    "    thresh = get_inverted_binary_threshold(resized)\n",
    "    num = 0\n",
    "    cnts, hierarchy = find_contours(thresh)\n",
    "    hierarchy = hierarchy[0]\n",
    "    for i in range(len(cnts)):\n",
    "        current_cnt = cnts[i]\n",
    "        current_hie = hierarchy[i]\n",
    "        shape = sd.detect(current_cnt)\n",
    "        found = False\n",
    "        if current_hie[3] < 0 and (shape == \"square\" or shape == \"rectangle\"):\n",
    "            found = True\n",
    "        elif shape == \"square\" or shape == \"rectangle\":\n",
    "            current_area = cv2.contourArea(current_cnt)\n",
    "            parent_area = cv2.contourArea(cnts[current_hie[3]])\n",
    "            area_difference = abs(current_area-parent_area)\n",
    "            if area_difference >=2000:\n",
    "                found = True\n",
    "        if found:\n",
    "            # shape using only the contour\n",
    "            cX, cY = get_contour_center(current_cnt, ratio)\n",
    "            annotate_image(cX, cY, current_cnt, image, ratio, shape)\n",
    "            num+=1\n",
    "    return num"
   ]
  },
  {
   "cell_type": "markdown",
   "metadata": {},
   "source": [
    "## Image Reading and Preprocessing"
   ]
  },
  {
   "cell_type": "code",
   "execution_count": 9,
   "metadata": {},
   "outputs": [
    {
     "name": "stdout",
     "output_type": "stream",
     "text": [
      "number of boxes in the first image:  4\n"
     ]
    },
    {
     "data": {
      "image/png": "[encoded data removed]",
      "text/plain": [
       "<Figure size 432x288 with 1 Axes>"
      ]
     },
     "metadata": {
      "needs_background": "light"
     },
     "output_type": "display_data"
    },
    {
     "name": "stdout",
     "output_type": "stream",
     "text": [
      "number of boxes in the second image:  16\n"
     ]
    },
    {
     "data": {
      "image/png": "[encoded data removed]",
      "text/plain": [
       "<Figure size 432x288 with 1 Axes>"
      ]
     },
     "metadata": {
      "needs_background": "light"
     },
     "output_type": "display_data"
    },
    {
     "data": {
      "text/plain": [
       "-1"
      ]
     },
     "execution_count": 9,
     "metadata": {},
     "output_type": "execute_result"
    }
   ],
   "source": [
    "# load the image and resize it to a smaller factor so that\n",
    "# the shapes can be approximated better\n",
    "file_name = 'Image_2.png'\n",
    "image = cv2.imread(file_name)\n",
    "file_name2 = 'Image_1.png'\n",
    "image2 = cv2.imread(file_name2)\n",
    "\n",
    "sd = BoxDetector()\n",
    "numBoxes = detect_boxes(image, sd)\n",
    "numBoxes2 = detect_boxes(image2, sd)\n",
    "\n",
    "print(\"number of boxes in the first image: \", numBoxes)\n",
    "plt.imshow(image)\n",
    "plt.show()\n",
    "cv2.waitKey(0)\n",
    "\n",
    "print(\"number of boxes in the second image: \", numBoxes2)\n",
    "plt.imshow(image2)\n",
    "plt.show()\n",
    "cv2.waitKey(0)\n"
   ]
  },
  {
   "cell_type": "markdown",
   "metadata": {},
   "source": [
    "## Conclusion"
   ]
  },
  {
   "cell_type": "markdown",
   "metadata": {},
   "source": [
    "We can successfully detect nested boxes. For practical purposes, I think this is enough. However, to detect the maximum number of possible boxes we need some programming tricks which I think I would have done if I had more time. I focused on the cv part of this assignment for the sake of scope and the time I had for this task and my thesis."
   ]
  }
 ],
 "metadata": {
  "kernelspec": {
   "display_name": "Python 3",
   "language": "python",
   "name": "python3"
  },
  "language_info": {
   "codemirror_mode": {
    "name": "ipython",
    "version": 3
   },
   "file_extension": ".py",
   "mimetype": "text/x-python",
   "name": "python",
   "nbconvert_exporter": "python",
   "pygments_lexer": "ipython3",
   "version": "3.7.3"
  }
 },
 "nbformat": 4,
 "nbformat_minor": 2
}
